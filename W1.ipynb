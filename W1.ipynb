{
 "cells": [
  {
   "cell_type": "code",
   "execution_count": 141,
   "id": "8072709b-fe86-49a5-b5ab-c2792646609a",
   "metadata": {},
   "outputs": [],
   "source": [
    "import pandas as pd"
   ]
  },
  {
   "cell_type": "markdown",
   "id": "72cf02f3-9587-4f21-9086-f5178a5d8dde",
   "metadata": {},
   "source": [
    "## Data Series"
   ]
  },
  {
   "cell_type": "code",
   "execution_count": 142,
   "id": "ae0b742d-f66b-493c-990a-8d2345f8e226",
   "metadata": {},
   "outputs": [
    {
     "name": "stdout",
     "output_type": "stream",
     "text": [
      "0    10\n",
      "1    20\n",
      "2    30\n",
      "3    40\n",
      "dtype: int64\n"
     ]
    }
   ],
   "source": [
    "data=[10,20,30,40]\n",
    "df=pd.Series(data)\n",
    "print(df)"
   ]
  },
  {
   "cell_type": "markdown",
   "id": "39ecc889-8589-48b4-9d04-d0490eb7c084",
   "metadata": {},
   "source": [
    "## Datasets"
   ]
  },
  {
   "cell_type": "code",
   "execution_count": 143,
   "id": "4b451cb3-daf4-4336-8d6d-3125cfafeac9",
   "metadata": {},
   "outputs": [
    {
     "name": "stdout",
     "output_type": "stream",
     "text": [
      "      cars  cost\n",
      "0  maruthi   987\n",
      "1   santro   876\n",
      "2     benz   765\n"
     ]
    }
   ],
   "source": [
    "data={\"cars\":[\"maruthi\",\"santro\",\"benz\"],\n",
    "      \"cost\":[987,876,765]\n",
    "     }\n",
    "df=pd.DataFrame(data)\n",
    "print(df)"
   ]
  },
  {
   "cell_type": "code",
   "execution_count": 144,
   "id": "3fd54d11-6c40-4388-a95e-a0fa02ec4bc6",
   "metadata": {},
   "outputs": [
    {
     "name": "stdout",
     "output_type": "stream",
     "text": [
      "         cars  cost\n",
      "car1  maruthi   987\n",
      "car2   santro   876\n",
      "car3     benz   765\n"
     ]
    }
   ],
   "source": [
    "data={\"cars\":[\"maruthi\",\"santro\",\"benz\"],\n",
    "      \"cost\":[987,876,765]\n",
    "     }\n",
    "df=pd.DataFrame(data,index=[\"car1\",\"car2\",\"car3\"])\n",
    "print(df)"
   ]
  },
  {
   "cell_type": "code",
   "execution_count": 145,
   "id": "10d31f22-9f23-417b-8c06-e1c58ce5c073",
   "metadata": {},
   "outputs": [],
   "source": [
    "df1=pd.read_csv('transactions.csv')"
   ]
  },
  {
   "cell_type": "markdown",
   "id": "cbe0e073-67fa-48e6-bc5d-600c0132ef12",
   "metadata": {},
   "source": [
    "## WEEK - I "
   ]
  },
  {
   "cell_type": "markdown",
   "id": "72be4786-6b6b-4587-a7f9-6d7e06d39870",
   "metadata": {},
   "source": [
    "#### 1.Print Summary of transaction data set"
   ]
  },
  {
   "cell_type": "code",
   "execution_count": 146,
   "id": "5605967a-5774-45c9-998d-9d0d33a89269",
   "metadata": {},
   "outputs": [
    {
     "name": "stdout",
     "output_type": "stream",
     "text": [
      "        TransactionID TransactionDate    UserID  ProductID   Quantity\n",
      "count        10.00000              10  9.000000  10.000000  10.000000\n",
      "unique            NaN              10       NaN        NaN        NaN\n",
      "top               NaN      2010-08-21       NaN        NaN        NaN\n",
      "freq              NaN               1       NaN        NaN        NaN\n",
      "mean          5.50000             NaN  3.444444   3.400000   2.400000\n",
      "std           3.02765             NaN  2.127858   1.074968   1.712698\n",
      "min           1.00000             NaN  1.000000   2.000000   1.000000\n",
      "25%           3.25000             NaN  2.000000   2.250000   1.000000\n",
      "50%           5.50000             NaN  3.000000   4.000000   2.000000\n",
      "75%           7.75000             NaN  3.000000   4.000000   3.000000\n",
      "max          10.00000             NaN  7.000000   5.000000   6.000000\n"
     ]
    }
   ],
   "source": [
    "print(df1.describe(include=\"all\"))\n"
   ]
  },
  {
   "cell_type": "code",
   "execution_count": 147,
   "id": "18540402-2351-4bbb-a4af-0ed9d2fa39d1",
   "metadata": {},
   "outputs": [
    {
     "name": "stdout",
     "output_type": "stream",
     "text": [
      "   TransactionID TransactionDate  UserID  ProductID  Quantity\n",
      "0              1      2010-08-21     7.0          2         1\n",
      "1              2      2011-05-26     3.0          4         1\n",
      "2              3      2011-06-16     3.0          3         1\n",
      "3              4      2012-08-26     1.0          2         3\n",
      "4              5      2013-06-06     2.0          4         1\n",
      "5              6      2013-12-23     2.0          5         6\n",
      "6              7      2013-12-30     3.0          4         1\n",
      "7              8      2014-04-24     NaN          2         3\n",
      "8              9      2015-04-24     7.0          4         3\n",
      "9             10      2016-05-08     3.0          4         4\n"
     ]
    }
   ],
   "source": [
    "print(df1)"
   ]
  },
  {
   "cell_type": "markdown",
   "id": "a845063f-b3f1-4906-b829-2d9f5613357f",
   "metadata": {},
   "source": [
    "#### 2.Print Numbers of Attributes"
   ]
  },
  {
   "cell_type": "code",
   "execution_count": 148,
   "id": "b6ea7034-089b-45f1-bfcf-7dfb7b77bd3e",
   "metadata": {},
   "outputs": [
    {
     "name": "stdout",
     "output_type": "stream",
     "text": [
      "Number of Attributes 5\n"
     ]
    }
   ],
   "source": [
    "print(\"Number of Attributes\" ,df1.shape[1])"
   ]
  },
  {
   "cell_type": "markdown",
   "id": "3e73b3a2-590a-44c6-b5e3-0b5131beaddc",
   "metadata": {},
   "source": [
    "#### 3.Print Numbers of Records"
   ]
  },
  {
   "cell_type": "code",
   "execution_count": 149,
   "id": "65a8c275-a351-46e8-8f7a-749ffd070b40",
   "metadata": {},
   "outputs": [
    {
     "name": "stdout",
     "output_type": "stream",
     "text": [
      "Number of records 10\n"
     ]
    }
   ],
   "source": [
    "print(\"Number of records\" ,df1.shape[0])"
   ]
  },
  {
   "cell_type": "markdown",
   "id": "2cc6bfc8-e444-40e7-a143-270918124d05",
   "metadata": {},
   "source": [
    "#### 4.Get the row names"
   ]
  },
  {
   "cell_type": "code",
   "execution_count": 150,
   "id": "ca2d5fef-a8db-49e5-b363-c7411ea738e7",
   "metadata": {},
   "outputs": [
    {
     "name": "stdout",
     "output_type": "stream",
     "text": [
      "Row Names: [0, 1, 2, 3, 4, 5, 6, 7, 8, 9]\n"
     ]
    }
   ],
   "source": [
    "print(\"Row Names:\", df1.index.tolist())"
   ]
  },
  {
   "cell_type": "markdown",
   "id": "31e3d733-c46e-47a1-adcd-a4dc7594a7f2",
   "metadata": {},
   "source": [
    "#### 5.Get the column names"
   ]
  },
  {
   "cell_type": "code",
   "execution_count": 151,
   "id": "3bc4347a-f7cc-4cb4-b421-54d697d42159",
   "metadata": {},
   "outputs": [
    {
     "name": "stdout",
     "output_type": "stream",
     "text": [
      "Column Names: ['TransactionID', 'TransactionDate', 'UserID', 'ProductID', 'Quantity']\n"
     ]
    }
   ],
   "source": [
    "print(\"Column Names:\", df1.columns.tolist())"
   ]
  },
  {
   "cell_type": "markdown",
   "id": "4fb48d8d-3b9c-4470-8299-070d42c2009a",
   "metadata": {},
   "source": [
    "#### 6. View top 10 Records"
   ]
  },
  {
   "cell_type": "code",
   "execution_count": 152,
   "id": "e7e1868a-2c70-4ed6-88ed-e2c1ecb83a8e",
   "metadata": {},
   "outputs": [
    {
     "name": "stdout",
     "output_type": "stream",
     "text": [
      "   TransactionID TransactionDate  UserID  ProductID  Quantity\n",
      "0              1      2010-08-21     7.0          2         1\n",
      "1              2      2011-05-26     3.0          4         1\n",
      "2              3      2011-06-16     3.0          3         1\n",
      "3              4      2012-08-26     1.0          2         3\n",
      "4              5      2013-06-06     2.0          4         1\n",
      "5              6      2013-12-23     2.0          5         6\n",
      "6              7      2013-12-30     3.0          4         1\n",
      "7              8      2014-04-24     NaN          2         3\n",
      "8              9      2015-04-24     7.0          4         3\n",
      "9             10      2016-05-08     3.0          4         4\n"
     ]
    }
   ],
   "source": [
    "print(df1.head(10))"
   ]
  },
  {
   "cell_type": "markdown",
   "id": "2a428520-db34-4397-baa4-8a1aa0b9500e",
   "metadata": {},
   "source": [
    "#### 7.Change the name of column “ Quantity” to “Quant”"
   ]
  },
  {
   "cell_type": "code",
   "execution_count": 153,
   "id": "1598f991-e430-4e3b-add8-ab62a4e12d59",
   "metadata": {},
   "outputs": [],
   "source": [
    "df1.rename(columns={\"Quantity\": \"Quant\"}, inplace=True)"
   ]
  },
  {
   "cell_type": "markdown",
   "id": "e672dca8-0515-4693-94c4-3c2d6be1f9a1",
   "metadata": {},
   "source": [
    "#### 8.Change the name of columns ProductID and UserID to PID and UID respectively"
   ]
  },
  {
   "cell_type": "code",
   "execution_count": 154,
   "id": "33f1dd48-2031-46b0-bef8-b2ea00cebbfc",
   "metadata": {},
   "outputs": [],
   "source": [
    "df1.rename(columns={\"ProductID\":\"PID\",\"UserID\":\"UID\"},inplace=True)"
   ]
  },
  {
   "cell_type": "markdown",
   "id": "9ff705d7-9984-4f40-bf65-74e58ed59588",
   "metadata": {},
   "source": [
    "#### 9. Order the rows of transactions by TransactionId descending, if ascending then ascending=True"
   ]
  },
  {
   "cell_type": "code",
   "execution_count": 155,
   "id": "8faa5f50-8133-4ffb-a918-23d5ee28e4d8",
   "metadata": {},
   "outputs": [
    {
     "name": "stdout",
     "output_type": "stream",
     "text": [
      "   TransactionID TransactionDate  UID  PID  Quant\n",
      "9             10      2016-05-08  3.0    4      4\n",
      "8              9      2015-04-24  7.0    4      3\n",
      "7              8      2014-04-24  NaN    2      3\n",
      "6              7      2013-12-30  3.0    4      1\n",
      "5              6      2013-12-23  2.0    5      6\n"
     ]
    }
   ],
   "source": [
    "df_sorted = df1.sort_values(by=[\"TransactionID\"],\n",
    "ascending=[False])\n",
    "print(df_sorted.head())"
   ]
  },
  {
   "cell_type": "markdown",
   "id": "9d8a11dc-3eab-490b-bb1f-c3d21437660c",
   "metadata": {},
   "source": [
    "#### 10. Order the rows of transactions by Quantity ascending, TransactionDate descending"
   ]
  },
  {
   "cell_type": "code",
   "execution_count": 156,
   "id": "c11dbfd5-be98-42e5-852e-d4cdeaa5935b",
   "metadata": {},
   "outputs": [
    {
     "name": "stdout",
     "output_type": "stream",
     "text": [
      "   TransactionID TransactionDate  UID  PID  Quant\n",
      "6              7      2013-12-30  3.0    4      1\n",
      "4              5      2013-06-06  2.0    4      1\n",
      "2              3      2011-06-16  3.0    3      1\n",
      "1              2      2011-05-26  3.0    4      1\n",
      "0              1      2010-08-21  7.0    2      1\n"
     ]
    }
   ],
   "source": [
    "ddf_sorted = df1.sort_values(by=[\"Quant\", \"TransactionDate\"],\n",
    "ascending=[True, False])\n",
    "print(ddf_sorted.head())"
   ]
  },
  {
   "cell_type": "markdown",
   "id": "8b9275c9-578b-4eb1-9ee4-ef054460bbd2",
   "metadata": {},
   "source": [
    "#### 11. Set the column order of Transactions as ProductID,Quantity, TransactionDate, TransactionID, UserID"
   ]
  },
  {
   "cell_type": "code",
   "execution_count": 157,
   "id": "0afc1f14-9130-4929-b985-3207784f3975",
   "metadata": {},
   "outputs": [
    {
     "name": "stdout",
     "output_type": "stream",
     "text": [
      "   PID  Quant TransactionDate  TransactionID  UID\n",
      "0    2      1      2010-08-21              1  7.0\n",
      "1    4      1      2011-05-26              2  3.0\n",
      "2    3      1      2011-06-16              3  3.0\n",
      "3    2      3      2012-08-26              4  1.0\n",
      "4    4      1      2013-06-06              5  2.0\n",
      "5    5      6      2013-12-23              6  2.0\n",
      "6    4      1      2013-12-30              7  3.0\n",
      "7    2      3      2014-04-24              8  NaN\n",
      "8    4      3      2015-04-24              9  7.0\n",
      "9    4      4      2016-05-08             10  3.0\n"
     ]
    }
   ],
   "source": [
    "df1=df1[[\"PID\",\"Quant\",\"TransactionDate\",\"TransactionID\",\"UID\"]]\n",
    "print(df1)"
   ]
  },
  {
   "cell_type": "markdown",
   "id": "89727138-b5f3-403c-ac6e-b2cd4b0e4dd1",
   "metadata": {},
   "source": [
    "#### 12.Make UserID the first column of transactions"
   ]
  },
  {
   "cell_type": "code",
   "execution_count": 158,
   "id": "47e6c06b-04e9-4d7b-ac22-c5d72660cebf",
   "metadata": {},
   "outputs": [
    {
     "name": "stdout",
     "output_type": "stream",
     "text": [
      "   UID  PID  Quant TransactionDate  TransactionID\n",
      "0  7.0    2      1      2010-08-21              1\n",
      "1  3.0    4      1      2011-05-26              2\n",
      "2  3.0    3      1      2011-06-16              3\n",
      "3  1.0    2      3      2012-08-26              4\n",
      "4  2.0    4      1      2013-06-06              5\n",
      "5  2.0    5      6      2013-12-23              6\n",
      "6  3.0    4      1      2013-12-30              7\n",
      "7  NaN    2      3      2014-04-24              8\n",
      "8  7.0    4      3      2015-04-24              9\n",
      "9  3.0    4      4      2016-05-08             10\n"
     ]
    }
   ],
   "source": [
    "df1=df1[[\"UID\",\"PID\",\"Quant\",\"TransactionDate\",\"TransactionID\"]]\n",
    "print(df1)"
   ]
  },
  {
   "cell_type": "markdown",
   "id": "dca131ce-d6b3-4fbd-9574-0dcdc96b385f",
   "metadata": {},
   "source": [
    "#### 13. Extracting arrays from a Data Frame. Get the 2nd column"
   ]
  },
  {
   "cell_type": "code",
   "execution_count": 159,
   "id": "59c99dac-885e-489a-979b-a0b558a6fac2",
   "metadata": {},
   "outputs": [
    {
     "name": "stdout",
     "output_type": "stream",
     "text": [
      "[2 4 3 2 4 5 4 2 4 4]\n"
     ]
    }
   ],
   "source": [
    "col2=df1.iloc[:, 1].values\n",
    "print(col2)"
   ]
  },
  {
   "cell_type": "markdown",
   "id": "ae9d5731-ea1c-40dd-842f-a9a67ad27df1",
   "metadata": {},
   "source": [
    "#### 14. Get the ProductID Array"
   ]
  },
  {
   "cell_type": "code",
   "execution_count": 160,
   "id": "bac9ac8b-ade1-47fa-ad3b-3962fe7d969f",
   "metadata": {},
   "outputs": [
    {
     "name": "stdout",
     "output_type": "stream",
     "text": [
      "[2 4 3 2 4 5 4 2 4 4]\n"
     ]
    }
   ],
   "source": [
    "pid=df1[\"PID\"].values\n",
    "print(pid)"
   ]
  },
  {
   "cell_type": "code",
   "execution_count": 161,
   "id": "41e06caf-97df-4e5f-bb2f-8db7842f327f",
   "metadata": {},
   "outputs": [
    {
     "name": "stdout",
     "output_type": "stream",
     "text": [
      "[1 1 1 3 1 6 1 3 3 4]\n"
     ]
    }
   ],
   "source": [
    "pid=df1[\"Quant\"].values\n",
    "print(pid)"
   ]
  },
  {
   "cell_type": "markdown",
   "id": "17aa98ae-48a7-4efe-9a44-7c9a00512471",
   "metadata": {},
   "source": [
    "#### 15.Get the ProductId array using the following variable "
   ]
  },
  {
   "cell_type": "markdown",
   "id": "1b814992-a0ce-416f-92fa-f7ca4e39f4f1",
   "metadata": {},
   "source": [
    "#### 16.Row subsetting, subset rows 1,3 and 6"
   ]
  },
  {
   "cell_type": "code",
   "execution_count": 162,
   "id": "05ffa566-4f74-495b-adcd-b403cbe3cb22",
   "metadata": {},
   "outputs": [
    {
     "name": "stdout",
     "output_type": "stream",
     "text": [
      "   UID  PID  Quant TransactionDate  TransactionID\n",
      "0  7.0    2      1      2010-08-21              1\n",
      "2  3.0    3      1      2011-06-16              3\n",
      "5  2.0    5      6      2013-12-23              6\n"
     ]
    }
   ],
   "source": [
    "ssrow=df1.iloc[[0,2,5]]\n",
    "print(ssrow)"
   ]
  },
  {
   "cell_type": "markdown",
   "id": "5eae204b-44a2-4a12-9f8d-cdbb55ed595d",
   "metadata": {},
   "source": [
    "#### 17. subset rows excluding 1,3 and 6"
   ]
  },
  {
   "cell_type": "code",
   "execution_count": 163,
   "id": "1739e53f-f051-43c6-8209-4666f2c1e970",
   "metadata": {},
   "outputs": [
    {
     "name": "stdout",
     "output_type": "stream",
     "text": [
      "   UID  PID  Quant TransactionDate  TransactionID\n",
      "1  3.0    4      1      2011-05-26              2\n",
      "3  1.0    2      3      2012-08-26              4\n",
      "4  2.0    4      1      2013-06-06              5\n",
      "6  3.0    4      1      2013-12-30              7\n",
      "7  NaN    2      3      2014-04-24              8\n",
      "8  7.0    4      3      2015-04-24              9\n",
      "9  3.0    4      4      2016-05-08             10\n"
     ]
    }
   ],
   "source": [
    "ss136=df1.drop(index=[0,2,5])\n",
    "print(ss136)"
   ]
  },
  {
   "cell_type": "markdown",
   "id": "fe2d9644-0af1-45fa-a9e3-4f816be41442",
   "metadata": {},
   "source": [
    "#### 18.Subset the first three rows"
   ]
  },
  {
   "cell_type": "code",
   "execution_count": 164,
   "id": "022c8d21-99ca-4eea-95d9-de211adfedcc",
   "metadata": {},
   "outputs": [
    {
     "name": "stdout",
     "output_type": "stream",
     "text": [
      "   UID  PID  Quant TransactionDate  TransactionID\n",
      "0  7.0    2      1      2010-08-21              1\n",
      "1  3.0    4      1      2011-05-26              2\n",
      "2  3.0    3      1      2011-06-16              3\n"
     ]
    }
   ],
   "source": [
    "ssf3=df1.head(3)\n",
    "print(ssf3)"
   ]
  },
  {
   "cell_type": "markdown",
   "id": "148227db-705a-4407-bd0c-137ae0bdc0ba",
   "metadata": {},
   "source": [
    "#### 19.Subset the last 2 rows"
   ]
  },
  {
   "cell_type": "code",
   "execution_count": 165,
   "id": "87476655-1fd4-43e5-861b-1cc63483afd8",
   "metadata": {},
   "outputs": [
    {
     "name": "stdout",
     "output_type": "stream",
     "text": [
      "   UID  PID  Quant TransactionDate  TransactionID\n",
      "8  7.0    4      3      2015-04-24              9\n",
      "9  3.0    4      4      2016-05-08             10\n"
     ]
    }
   ],
   "source": [
    "ssl2=df1.tail(2)\n",
    "print(ssl2)"
   ]
  },
  {
   "cell_type": "markdown",
   "id": "9dd0f4f0-c28b-4e5e-abb9-7f0571381477",
   "metadata": {},
   "source": [
    "#### 20. Subset rows excluding the last 2 rows"
   ]
  },
  {
   "cell_type": "code",
   "execution_count": 166,
   "id": "2d7d7ae5-5f0a-4d6e-8210-3c466b4081b5",
   "metadata": {},
   "outputs": [
    {
     "name": "stdout",
     "output_type": "stream",
     "text": [
      "   UID  PID  Quant TransactionDate  TransactionID\n",
      "0  7.0    2      1      2010-08-21              1\n",
      "1  3.0    4      1      2011-05-26              2\n",
      "2  3.0    3      1      2011-06-16              3\n",
      "3  1.0    2      3      2012-08-26              4\n",
      "4  2.0    4      1      2013-06-06              5\n",
      "5  2.0    5      6      2013-12-23              6\n",
      "6  3.0    4      1      2013-12-30              7\n",
      "7  NaN    2      3      2014-04-24              8\n"
     ]
    }
   ],
   "source": [
    "ssl2=df1.iloc[:-2]\n",
    "print(ssl2)"
   ]
  },
  {
   "cell_type": "markdown",
   "id": "ce8a9944-0216-49a7-8966-9be237f55b82",
   "metadata": {},
   "source": [
    "#### 21. Subset rows excluding the first 3 rows"
   ]
  },
  {
   "cell_type": "code",
   "execution_count": 167,
   "id": "b9baa76c-b2ca-4195-bc40-309189435863",
   "metadata": {},
   "outputs": [
    {
     "name": "stdout",
     "output_type": "stream",
     "text": [
      "   UID  PID  Quant TransactionDate  TransactionID\n",
      "3  1.0    2      3      2012-08-26              4\n",
      "4  2.0    4      1      2013-06-06              5\n",
      "5  2.0    5      6      2013-12-23              6\n",
      "6  3.0    4      1      2013-12-30              7\n",
      "7  NaN    2      3      2014-04-24              8\n",
      "8  7.0    4      3      2015-04-24              9\n",
      "9  3.0    4      4      2016-05-08             10\n"
     ]
    }
   ],
   "source": [
    "ssf3=df1.iloc[3:]\n",
    "print(ssf3)"
   ]
  },
  {
   "cell_type": "markdown",
   "id": "b7851361-85cb-4834-8007-0546071be59a",
   "metadata": {},
   "source": [
    "#### 22. Subset rows where Quantity>1"
   ]
  },
  {
   "cell_type": "code",
   "execution_count": 168,
   "id": "ca2eea9a-045c-42a2-94eb-f091e4e2a5e9",
   "metadata": {},
   "outputs": [
    {
     "name": "stdout",
     "output_type": "stream",
     "text": [
      "   UID  PID  Quant TransactionDate  TransactionID\n",
      "3  1.0    2      3      2012-08-26              4\n",
      "5  2.0    5      6      2013-12-23              6\n",
      "7  NaN    2      3      2014-04-24              8\n",
      "8  7.0    4      3      2015-04-24              9\n",
      "9  3.0    4      4      2016-05-08             10\n"
     ]
    }
   ],
   "source": [
    "ss = df1[df1['Quant'] > 1]\n",
    "print(ss)"
   ]
  },
  {
   "cell_type": "markdown",
   "id": "a4690f13-9ec4-43e1-bd79-43348bdb107d",
   "metadata": {},
   "source": [
    "#### 23. Subset rows where UserID=2"
   ]
  },
  {
   "cell_type": "code",
   "execution_count": 169,
   "id": "815aade7-c404-4338-beae-4f2458082bc5",
   "metadata": {},
   "outputs": [
    {
     "name": "stdout",
     "output_type": "stream",
     "text": [
      "   UID  PID  Quant TransactionDate  TransactionID\n",
      "4  2.0    4      1      2013-06-06              5\n",
      "5  2.0    5      6      2013-12-23              6\n"
     ]
    }
   ],
   "source": [
    "sr = df1[df1[\"UID\"] == 2]\n",
    "print(sr)"
   ]
  },
  {
   "cell_type": "markdown",
   "id": "04628034-3b8e-4459-9042-78122471b4a6",
   "metadata": {},
   "source": [
    "#### 24. Subset rows where Quantity>1 and UserID=2"
   ]
  },
  {
   "cell_type": "code",
   "execution_count": 170,
   "id": "e190e9b0-ddf4-43d8-af3d-709c207a96c2",
   "metadata": {},
   "outputs": [
    {
     "name": "stdout",
     "output_type": "stream",
     "text": [
      "   UID  PID  Quant TransactionDate  TransactionID\n",
      "5  2.0    5      6      2013-12-23              6\n"
     ]
    }
   ],
   "source": [
    "sq = df1[(df1[\"Quant\"] > 1) & (df1[\"UID\"] == 2)]\n",
    "print(sq)"
   ]
  },
  {
   "cell_type": "markdown",
   "id": "b15c56c9-32e1-44e3-a4fd-5ba093abfa23",
   "metadata": {},
   "source": [
    "#### 25. Subset rows where Quantity + UserID is >3"
   ]
  },
  {
   "cell_type": "code",
   "execution_count": 171,
   "id": "0ad5264a-becd-4eae-85b7-b2c56532d756",
   "metadata": {},
   "outputs": [
    {
     "name": "stdout",
     "output_type": "stream",
     "text": [
      "   UID  PID  Quant TransactionDate  TransactionID\n",
      "0  7.0    2      1      2010-08-21              1\n",
      "1  3.0    4      1      2011-05-26              2\n",
      "2  3.0    3      1      2011-06-16              3\n",
      "3  1.0    2      3      2012-08-26              4\n",
      "5  2.0    5      6      2013-12-23              6\n",
      "6  3.0    4      1      2013-12-30              7\n",
      "8  7.0    4      3      2015-04-24              9\n",
      "9  3.0    4      4      2016-05-08             10\n"
     ]
    }
   ],
   "source": [
    "ss=df1[(df1[\"Quant\"]) + (df1[\"UID\"]) > 3 ]\n",
    "print(ss)"
   ]
  },
  {
   "cell_type": "markdown",
   "id": "3106e584-f19f-415e-a233-2e6a37ca8785",
   "metadata": {},
   "source": [
    "#### 26. Subset rows where an external array, foo, is True"
   ]
  },
  {
   "cell_type": "code",
   "execution_count": 172,
   "id": "f879f5ff-dfc6-4257-b60d-560c8f0c7e14",
   "metadata": {},
   "outputs": [
    {
     "name": "stdout",
     "output_type": "stream",
     "text": [
      "   UID  PID  Quant TransactionDate  TransactionID\n",
      "0  7.0    2      1      2010-08-21              1\n",
      "2  3.0    3      1      2011-06-16              3\n",
      "4  2.0    4      1      2013-06-06              5\n",
      "6  3.0    4      1      2013-12-30              7\n",
      "8  7.0    4      3      2015-04-24              9\n"
     ]
    }
   ],
   "source": [
    "foo=[True,False,True,False,True,False,True,False,True,False]\n",
    "ext=df1[foo]\n",
    "print(ext)"
   ]
  },
  {
   "cell_type": "markdown",
   "id": "ae9cbf86-5afd-4c97-9138-5e7a33632a13",
   "metadata": {},
   "source": [
    "#### 27. Subset rows where an external array, bar, is positive        "
   ]
  },
  {
   "cell_type": "code",
   "execution_count": 173,
   "id": "95a96077-d6b4-43b0-875f-740c87f372d7",
   "metadata": {},
   "outputs": [],
   "source": [
    "bar = [1,-1,-2,2,3,-3,-4,4,5,-5]  "
   ]
  },
  {
   "cell_type": "code",
   "execution_count": 174,
   "id": "2afb4b93-7ad6-46ab-85a9-d8e278cb57d5",
   "metadata": {},
   "outputs": [
    {
     "name": "stdout",
     "output_type": "stream",
     "text": [
      "   UID  PID  Quant TransactionDate  TransactionID\n",
      "0  7.0    2      1      2010-08-21              1\n",
      "3  1.0    2      3      2012-08-26              4\n",
      "4  2.0    4      1      2013-06-06              5\n",
      "7  NaN    2      3      2014-04-24              8\n",
      "8  7.0    4      3      2015-04-24              9\n"
     ]
    }
   ],
   "source": [
    "ss1=df1[[b > 0 for b in bar]]\n",
    "print(ss1)"
   ]
  },
  {
   "cell_type": "markdown",
   "id": "f31ce33f-71b1-4dfc-82d1-eae7ae8643e0",
   "metadata": {},
   "source": [
    "#### 28. Subset rows where foo is TRUE or bar is negative"
   ]
  },
  {
   "cell_type": "code",
   "execution_count": 175,
   "id": "7d81b7cf-6578-46cd-b82a-90e2459ca5f1",
   "metadata": {},
   "outputs": [
    {
     "name": "stdout",
     "output_type": "stream",
     "text": [
      "   UID  PID  Quant TransactionDate  TransactionID    foo  bar\n",
      "0  7.0    2      1      2010-08-21              1   True    1\n",
      "1  3.0    4      1      2011-05-26              2  False   -1\n",
      "2  3.0    3      1      2011-06-16              3   True   -2\n",
      "4  2.0    4      1      2013-06-06              5   True    3\n",
      "5  2.0    5      6      2013-12-23              6  False   -3\n",
      "6  3.0    4      1      2013-12-30              7   True   -4\n",
      "8  7.0    4      3      2015-04-24              9   True    5\n",
      "9  3.0    4      4      2016-05-08             10  False   -5\n"
     ]
    }
   ],
   "source": [
    "# Add foo and bar columns to DataFrame\n",
    "df1[\"foo\"] = foo\n",
    "df1[\"bar\"] = bar\n",
    "\n",
    "# Subset rows where foo is True OR bar is negative\n",
    "ss= df1[(df1[\"foo\"]) | (df1[\"bar\"] < 0)]\n",
    "\n",
    "# Print the subset result\n",
    "print(ss)"
   ]
  },
  {
   "cell_type": "markdown",
   "id": "26d50ec1-bca5-4ba8-814e-5bff013473a2",
   "metadata": {},
   "source": [
    "#### 29. Subset the rows where foo is not TRUE and bar is not negative"
   ]
  },
  {
   "cell_type": "code",
   "execution_count": 176,
   "id": "85f50f26-dca3-4d5b-bd03-fa159245ac94",
   "metadata": {},
   "outputs": [
    {
     "name": "stdout",
     "output_type": "stream",
     "text": [
      "   UID  PID  Quant TransactionDate  TransactionID    foo  bar\n",
      "3  1.0    2      3      2012-08-26              4  False    2\n",
      "7  NaN    2      3      2014-04-24              8  False    4\n"
     ]
    }
   ],
   "source": [
    "ss1= df1[(~df1[\"foo\"]) & (df1[\"bar\"] >= 0)]\n",
    "print(ss1)"
   ]
  },
  {
   "cell_type": "markdown",
   "id": "a1c7e393-866b-4a08-8315-847f9a04af49",
   "metadata": {},
   "source": [
    "#### 30. Subset by columns 1 and 3"
   ]
  },
  {
   "cell_type": "code",
   "execution_count": 177,
   "id": "d6bd44f7-1d20-4a1e-bb70-f917fb0efa46",
   "metadata": {},
   "outputs": [
    {
     "name": "stdout",
     "output_type": "stream",
     "text": [
      "   UID  Quant\n",
      "0  7.0      1\n",
      "1  3.0      1\n",
      "2  3.0      1\n",
      "3  1.0      3\n",
      "4  2.0      1\n",
      "5  2.0      6\n",
      "6  3.0      1\n",
      "7  NaN      3\n",
      "8  7.0      3\n",
      "9  3.0      4\n"
     ]
    }
   ],
   "source": [
    "ss= df1.iloc[:, [0, 2]]\n",
    "print(ss)"
   ]
  },
  {
   "cell_type": "markdown",
   "id": "b083cf00-24f1-41bb-ab3a-8078b7d59987",
   "metadata": {},
   "source": [
    "#### 31. Subset by columns TransactionID and TransactionDate"
   ]
  },
  {
   "cell_type": "code",
   "execution_count": 178,
   "id": "77c3b7c7-92c1-48a6-b492-e2c0eae6231d",
   "metadata": {},
   "outputs": [
    {
     "name": "stdout",
     "output_type": "stream",
     "text": [
      "   TransactionID TransactionDate\n",
      "0              1      2010-08-21\n",
      "1              2      2011-05-26\n",
      "2              3      2011-06-16\n",
      "3              4      2012-08-26\n",
      "4              5      2013-06-06\n",
      "5              6      2013-12-23\n",
      "6              7      2013-12-30\n",
      "7              8      2014-04-24\n",
      "8              9      2015-04-24\n",
      "9             10      2016-05-08\n"
     ]
    }
   ],
   "source": [
    "ss=[\"TransactionID\",\"TransactionDate\"]\n",
    "ss1=df1[ss]\n",
    "print(ss1)"
   ]
  },
  {
   "cell_type": "markdown",
   "id": "cd629b84-1a96-40a4-8bc3-702fb5e5b55f",
   "metadata": {},
   "source": [
    "#### 32. Subset by columns TransactionID and TransactionDate with logical operator"
   ]
  },
  {
   "cell_type": "code",
   "execution_count": 179,
   "id": "303726ee-3831-442f-9f8e-e84ff6435fa3",
   "metadata": {},
   "outputs": [
    {
     "name": "stdout",
     "output_type": "stream",
     "text": [
      "   TransactionID TransactionDate\n",
      "3              4      2012-08-26\n",
      "5              6      2013-12-23\n",
      "7              8      2014-04-24\n",
      "8              9      2015-04-24\n",
      "9             10      2016-05-08\n"
     ]
    }
   ],
   "source": [
    "ss= df1[df1['Quant'] > 1][['TransactionID','TransactionDate']]\n",
    "print(ss)"
   ]
  },
  {
   "cell_type": "markdown",
   "id": "44a5ba61-af69-422e-9194-36a99fd558ce",
   "metadata": {},
   "source": [
    "#### 33. Subset columns by a variable list of column names"
   ]
  },
  {
   "cell_type": "code",
   "execution_count": 180,
   "id": "df311440-c39c-4bc0-90cd-2da38ba81a8e",
   "metadata": {},
   "outputs": [
    {
     "name": "stdout",
     "output_type": "stream",
     "text": [
      "   TransactionID TransactionDate\n",
      "0              1      2010-08-21\n",
      "1              2      2011-05-26\n",
      "2              3      2011-06-16\n",
      "3              4      2012-08-26\n",
      "4              5      2013-06-06\n",
      "5              6      2013-12-23\n",
      "6              7      2013-12-30\n",
      "7              8      2014-04-24\n",
      "8              9      2015-04-24\n",
      "9             10      2016-05-08\n"
     ]
    }
   ],
   "source": [
    "ss=[\"TransactionID\",\"TransactionDate\"]\n",
    "ss1=df1[ss]\n",
    "print(ss1)"
   ]
  },
  {
   "cell_type": "markdown",
   "id": "ab7b3a3b-a8bb-4218-af75-7c8c01420d45",
   "metadata": {},
   "source": [
    "#### 34. Subset columns excluding a variable list of column names"
   ]
  },
  {
   "cell_type": "code",
   "execution_count": 181,
   "id": "d552e779-4fd4-4e71-b7d7-8e61c170251b",
   "metadata": {},
   "outputs": [
    {
     "name": "stdout",
     "output_type": "stream",
     "text": [
      "   UID TransactionDate  TransactionID    foo  bar\n",
      "0  7.0      2010-08-21              1   True    1\n",
      "1  3.0      2011-05-26              2  False   -1\n",
      "2  3.0      2011-06-16              3   True   -2\n",
      "3  1.0      2012-08-26              4  False    2\n",
      "4  2.0      2013-06-06              5   True    3\n",
      "5  2.0      2013-12-23              6  False   -3\n",
      "6  3.0      2013-12-30              7   True   -4\n",
      "7  NaN      2014-04-24              8  False    4\n",
      "8  7.0      2015-04-24              9   True    5\n",
      "9  3.0      2016-05-08             10  False   -5\n"
     ]
    }
   ],
   "source": [
    "ce= ['Quant', 'PID']\n",
    "se= df1[[col for col in df1.columns if col not in ce]]\n",
    "print(se)"
   ]
  },
  {
   "cell_type": "code",
   "execution_count": 182,
   "id": "d47214bf-26b5-4003-91eb-a3e2b189a86c",
   "metadata": {},
   "outputs": [
    {
     "name": "stdout",
     "output_type": "stream",
     "text": [
      "   UID  PID  Quant TransactionDate  TransactionID    foo  bar\n",
      "0  7.0    2      1      2010-08-21              1   True    1\n",
      "1  3.0    4      1      2011-05-26              2  False   -1\n",
      "2  3.0    3      1      2011-06-16              3   True   -2\n",
      "3  1.0    2      3      2012-08-26              4  False    2\n",
      "4  2.0    4      1      2013-06-06              5   True    3\n",
      "5  2.0    5      6      2013-12-23              6  False   -3\n",
      "6  3.0    4      1      2013-12-30              7   True   -4\n",
      "7  NaN    2      3      2014-04-24              8  False    4\n",
      "8  7.0    4      3      2015-04-24              9   True    5\n",
      "9  3.0    4      4      2016-05-08             10  False   -5\n"
     ]
    }
   ],
   "source": [
    "print(df1)"
   ]
  },
  {
   "cell_type": "markdown",
   "id": "40b2764c-efcd-4c49-be68-93f8368ec254",
   "metadata": {},
   "source": [
    "#### 35. Inserting and updating values"
   ]
  },
  {
   "cell_type": "code",
   "execution_count": 183,
   "id": "868723c1-8bbd-43d3-918b-7f1403932f0f",
   "metadata": {},
   "outputs": [
    {
     "name": "stdout",
     "output_type": "stream",
     "text": [
      "    UID  PID  Quant TransactionDate  TransactionID    foo  bar  Discount\n",
      "0   7.0    2     15      2010-08-21              1   True  1.0      0.15\n",
      "1   3.0    4      6      2011-05-26              2  False -1.0      0.10\n",
      "2   3.0    3      6      2011-06-16              3   True -2.0      0.10\n",
      "3   1.0    2      8      2012-08-26              4  False  2.0      0.10\n",
      "4   2.0    4      6      2013-06-06              5   True  3.0      0.10\n",
      "5  45.0  101      4      2024-02-01           8888    NaN  NaN       NaN\n",
      "6   2.0    5     11      2013-12-23              6  False -3.0      0.15\n",
      "7   3.0    4      6      2013-12-30              7   True -4.0      0.10\n",
      "8   NaN    2      8      2014-04-24              8  False  4.0      0.10\n",
      "9   7.0    4      8      2015-04-24              9   True  5.0      0.10\n"
     ]
    }
   ],
   "source": [
    "\n",
    "# 35. Inserting and updating values\n",
    "\n",
    "# Updating a single value: Set the Quantity (Quant) of the first row to 10\n",
    "df1.loc[0, \"Quant\"] = 10  \n",
    "\n",
    "# Updating multiple values: Increase all Quantities by 5\n",
    "df1[\"Quant\"] = df1[\"Quant\"] + 5\n",
    "\n",
    "# Adding a new column: Add a column \"Discount\" with a default value of 10%\n",
    "df1[\"Discount\"] = 0.10\n",
    "\n",
    "# Conditional Update: If Quant > 10, set Discount to 15%\n",
    "df1.loc[df1[\"Quant\"] > 10, \"Discount\"] = 0.15\n",
    "\n",
    "\n",
    "# Insert a new row at a specific index (e.g., at index 5)\n",
    "new_row = {\"TransactionID\": 8888, \"UID\": 45, \"TransactionDate\": \"2024-02-01\", \"PID\": 101, \"Quant\": 4}\n",
    "df1 = pd.concat([df1.iloc[:5], pd.DataFrame([new_row]), df1.iloc[5:]]).reset_index(drop=True)\n",
    "\n",
    "# Print the updated DataFrame\n",
    "print(df1.head(10))\n"
   ]
  },
  {
   "cell_type": "markdown",
   "id": "f1ff22e5-71af-4a0b-aed1-01ec99a0346f",
   "metadata": {},
   "source": [
    "#### 36. Convert the TransactionDate column to type Date"
   ]
  },
  {
   "cell_type": "code",
   "execution_count": 184,
   "id": "e4fb2a1d-5b7e-4e81-9659-e45e12b5753f",
   "metadata": {},
   "outputs": [
    {
     "name": "stdout",
     "output_type": "stream",
     "text": [
      "<class 'pandas.core.frame.DataFrame'>\n",
      "RangeIndex: 11 entries, 0 to 10\n",
      "Data columns (total 8 columns):\n",
      " #   Column           Non-Null Count  Dtype         \n",
      "---  ------           --------------  -----         \n",
      " 0   UID              10 non-null     float64       \n",
      " 1   PID              11 non-null     int64         \n",
      " 2   Quant            11 non-null     int64         \n",
      " 3   TransactionDate  11 non-null     datetime64[ns]\n",
      " 4   TransactionID    11 non-null     int64         \n",
      " 5   foo              10 non-null     object        \n",
      " 6   bar              10 non-null     float64       \n",
      " 7   Discount         10 non-null     float64       \n",
      "dtypes: datetime64[ns](1), float64(3), int64(3), object(1)\n",
      "memory usage: 836.0+ bytes\n",
      "None\n"
     ]
    }
   ],
   "source": [
    "df1[\"TransactionDate\"] = pd.to_datetime(df1[\"TransactionDate\"])\n",
    "print(df1.info())"
   ]
  },
  {
   "cell_type": "markdown",
   "id": "2259b28a-cc06-4b66-bfbf-ea387c8d069c",
   "metadata": {},
   "source": [
    "#### 37. Insert a new column, Foo=UserID+ProductID"
   ]
  },
  {
   "cell_type": "code",
   "execution_count": 185,
   "id": "aa1d8150-a330-41ef-94c2-7a8b08a8c5c4",
   "metadata": {},
   "outputs": [
    {
     "name": "stdout",
     "output_type": "stream",
     "text": [
      "     UID  PID  Quant TransactionDate  TransactionID    foo  bar  Discount  \\\n",
      "0    7.0    2     15      2010-08-21              1   True  1.0      0.15   \n",
      "1    3.0    4      6      2011-05-26              2  False -1.0      0.10   \n",
      "2    3.0    3      6      2011-06-16              3   True -2.0      0.10   \n",
      "3    1.0    2      8      2012-08-26              4  False  2.0      0.10   \n",
      "4    2.0    4      6      2013-06-06              5   True  3.0      0.10   \n",
      "5   45.0  101      4      2024-02-01           8888    NaN  NaN       NaN   \n",
      "6    2.0    5     11      2013-12-23              6  False -3.0      0.15   \n",
      "7    3.0    4      6      2013-12-30              7   True -4.0      0.10   \n",
      "8    NaN    2      8      2014-04-24              8  False  4.0      0.10   \n",
      "9    7.0    4      8      2015-04-24              9   True  5.0      0.10   \n",
      "10   3.0    4      9      2016-05-08             10  False -5.0      0.10   \n",
      "\n",
      "      Foo  \n",
      "0     9.0  \n",
      "1     7.0  \n",
      "2     6.0  \n",
      "3     3.0  \n",
      "4     6.0  \n",
      "5   146.0  \n",
      "6     7.0  \n",
      "7     7.0  \n",
      "8     NaN  \n",
      "9    11.0  \n",
      "10    7.0  \n"
     ]
    }
   ],
   "source": [
    "df1[\"Foo\"] = df1[\"UID\"] + df1[\"PID\"]\n",
    "\n",
    "# Display updated DataFrame\n",
    "print(df1)"
   ]
  }
 ],
 "metadata": {
  "kernelspec": {
   "display_name": "Python 3 (ipykernel)",
   "language": "python",
   "name": "python3"
  },
  "language_info": {
   "codemirror_mode": {
    "name": "ipython",
    "version": 3
   },
   "file_extension": ".py",
   "mimetype": "text/x-python",
   "name": "python",
   "nbconvert_exporter": "python",
   "pygments_lexer": "ipython3",
   "version": "3.12.7"
  }
 },
 "nbformat": 4,
 "nbformat_minor": 5
}
